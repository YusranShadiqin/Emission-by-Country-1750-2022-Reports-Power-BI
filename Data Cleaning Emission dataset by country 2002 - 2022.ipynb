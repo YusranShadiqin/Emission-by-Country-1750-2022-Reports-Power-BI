{
 "cells": [
  {
   "cell_type": "code",
   "execution_count": 1,
   "id": "77aff5ec",
   "metadata": {},
   "outputs": [],
   "source": [
    "import pandas as pd"
   ]
  },
  {
   "cell_type": "code",
   "execution_count": 2,
   "id": "da7409fe",
   "metadata": {},
   "outputs": [],
   "source": [
    "data_1 = pd.read_csv(\"GCB2022v27_MtCO2_flat.csv\")\n",
    "data_2 = pd.read_csv(\"GCB2022v27_percapita_flat.csv\")\n",
    "data_3 = pd.read_csv(\"GCB2022v27_sources_flat.csv\")"
   ]
  },
  {
   "cell_type": "markdown",
   "id": "f6f3cdc9",
   "metadata": {},
   "source": [
    "### Cleaning Data 1"
   ]
  },
  {
   "cell_type": "code",
   "execution_count": 3,
   "id": "14b94152",
   "metadata": {},
   "outputs": [
    {
     "name": "stdout",
     "output_type": "stream",
     "text": [
      "<class 'pandas.core.frame.DataFrame'>\n",
      "RangeIndex: 63104 entries, 0 to 63103\n",
      "Data columns (total 11 columns):\n",
      " #   Column              Non-Null Count  Dtype  \n",
      "---  ------              --------------  -----  \n",
      " 0   Country             63104 non-null  object \n",
      " 1   ISO 3166-1 alpha-3  61472 non-null  object \n",
      " 2   Year                63104 non-null  int64  \n",
      " 3   Total               62904 non-null  float64\n",
      " 4   Coal                21744 non-null  float64\n",
      " 5   Oil                 21717 non-null  float64\n",
      " 6   Gas                 21618 non-null  float64\n",
      " 7   Cement              20814 non-null  float64\n",
      " 8   Flaring             21550 non-null  float64\n",
      " 9   Other               1620 non-null   float64\n",
      " 10  Per Capita          18974 non-null  float64\n",
      "dtypes: float64(8), int64(1), object(2)\n",
      "memory usage: 5.3+ MB\n"
     ]
    }
   ],
   "source": [
    "data_1.info()"
   ]
  },
  {
   "cell_type": "code",
   "execution_count": 4,
   "id": "55675625",
   "metadata": {},
   "outputs": [
    {
     "data": {
      "text/plain": [
       "Country                   0\n",
       "ISO 3166-1 alpha-3     1632\n",
       "Year                      0\n",
       "Total                   200\n",
       "Coal                  41360\n",
       "Oil                   41387\n",
       "Gas                   41486\n",
       "Cement                42290\n",
       "Flaring               41554\n",
       "Other                 61484\n",
       "Per Capita            44130\n",
       "dtype: int64"
      ]
     },
     "execution_count": 4,
     "metadata": {},
     "output_type": "execute_result"
    }
   ],
   "source": [
    "data_1.isnull().sum()"
   ]
  },
  {
   "cell_type": "code",
   "execution_count": 5,
   "id": "a1c9a97f",
   "metadata": {},
   "outputs": [
    {
     "data": {
      "text/plain": [
       "0"
      ]
     },
     "execution_count": 5,
     "metadata": {},
     "output_type": "execute_result"
    }
   ],
   "source": [
    "data_1.duplicated().sum()"
   ]
  },
  {
   "cell_type": "code",
   "execution_count": 13,
   "id": "38cb4ea5",
   "metadata": {
    "scrolled": true
   },
   "outputs": [
    {
     "name": "stdout",
     "output_type": "stream",
     "text": [
      " \n",
      "Unique Value for  Country  :  ['Afghanistan' 'Albania' 'Algeria' 'Andorra' 'Angola' 'Anguilla'\n",
      " 'Antarctica' 'Antigua and Barbuda' 'Argentina' 'Armenia' 'Aruba'\n",
      " 'Australia' 'Austria' 'Azerbaijan' 'Bahamas' 'Bahrain' 'Bangladesh'\n",
      " 'Barbados' 'Belarus' 'Belgium' 'Belize' 'Benin' 'Bermuda' 'Bhutan'\n",
      " 'Bonaire, Saint Eustatius and Saba' 'Bosnia and Herzegovina' 'Botswana'\n",
      " 'Brazil' 'British Virgin Islands' 'Brunei Darussalam' 'Bulgaria'\n",
      " 'Burkina Faso' 'Burundi' 'Cambodia' 'Canada' 'Cape Verde'\n",
      " 'Central African Republic' 'Chad' 'Chile' 'China' 'Christmas Island'\n",
      " 'Colombia' 'Comoros' 'Congo' 'Cook Islands' 'Costa Rica' \"Côte d'Ivoire\"\n",
      " 'Croatia' 'Cuba' 'Curaçao' 'Cyprus' 'Czech Republic' 'North Korea'\n",
      " 'Democratic Republic of the Congo' 'Denmark' 'Djibouti' 'Dominica'\n",
      " 'Dominican Republic' 'Ecuador' 'Egypt' 'El Salvador' 'Equatorial Guinea'\n",
      " 'Eritrea' 'Estonia' 'Ethiopia' 'Faeroe Islands'\n",
      " 'Micronesia (Federated States of)' 'Fiji' 'Finland' 'Panama Canal Zone'\n",
      " 'France' 'French Guiana' 'French Polynesia' 'Gabon' 'Gambia' 'Georgia'\n",
      " 'Germany' 'Ghana' 'Greece' 'Greenland' 'Grenada' 'Guadeloupe' 'Guatemala'\n",
      " 'Guinea' 'Guinea-Bissau' 'Guyana' 'Haiti' 'Honduras' 'Hong Kong'\n",
      " 'Hungary' 'Iceland' 'India' 'Indonesia' 'Iraq' 'Ireland' 'Iran' 'Israel'\n",
      " 'Italy' 'Jamaica' 'Japan' 'Jordan' 'Kazakhstan' 'Kenya' 'Kiribati'\n",
      " 'Kosovo' 'Kuwait' 'Kyrgyzstan' 'Laos' 'Latvia' 'Lebanon' 'Lesotho'\n",
      " 'Liberia' 'Libya' 'Liechtenstein' 'Lithuania' 'Luxembourg' 'Macao'\n",
      " 'North Macedonia' 'Madagascar' 'Malawi' 'Malaysia' 'Maldives' 'Mali'\n",
      " 'Malta' 'Marshall Islands' 'Martinique' 'Mauritania' 'Mauritius'\n",
      " 'Mayotte' 'Mexico' 'Mongolia' 'Montenegro' 'Montserrat' 'Morocco'\n",
      " 'Mozambique' 'Myanmar' 'Namibia' 'Nauru' 'Nepal' 'Netherlands'\n",
      " 'New Caledonia' 'New Zealand' 'Nicaragua' 'Niger' 'Nigeria' 'Niue'\n",
      " 'Norway' 'Occupied Palestinian Territory' 'Oman' 'Pakistan' 'Palau'\n",
      " 'Panama' 'Papua New Guinea' 'Paraguay' 'Peru' 'Philippines' 'Bolivia'\n",
      " 'Poland' 'Portugal' 'Puerto Rico' 'Qatar' 'Cameroon' 'South Korea'\n",
      " 'Moldova' 'South Sudan' 'Sudan' 'Réunion' 'Romania' 'Russia' 'Rwanda'\n",
      " 'Saint Helena' 'Saint Lucia' 'Sint Maarten (Dutch part)' 'Samoa'\n",
      " 'Sao Tome and Principe' 'Saudi Arabia' 'Senegal' 'Serbia' 'Seychelles'\n",
      " 'Sierra Leone' 'Singapore' 'Slovakia' 'Slovenia' 'Solomon Islands'\n",
      " 'Somalia' 'South Africa' 'Spain' 'Sri Lanka' 'Saint Kitts and Nevis'\n",
      " 'St. Kitts-Nevis-Anguilla' 'Saint Pierre and Miquelon'\n",
      " 'Saint Vincent and the Grenadines' 'Suriname' 'Swaziland' 'Sweden'\n",
      " 'Switzerland' 'Syria' 'Taiwan' 'Tajikistan' 'Thailand' 'Timor-Leste'\n",
      " 'Togo' 'Tonga' 'Trinidad and Tobago' 'Tunisia' 'Turkey' 'Turkmenistan'\n",
      " 'Turks and Caicos Islands' 'Tuvalu' 'Uganda' 'Ukraine'\n",
      " 'United Arab Emirates' 'United Kingdom' 'Tanzania' 'USA' 'Uruguay'\n",
      " 'Uzbekistan' 'Vanuatu' 'Venezuela' 'Viet Nam' 'Wallis and Futuna Islands'\n",
      " 'Yemen' 'Zambia' 'Zimbabwe' 'International Transport' 'Global']\n",
      " \n",
      "Unique Value for  ISO 3166-1 alpha-3  :  ['AFG' 'ALB' 'DZA' 'AND' 'AGO' 'AIA' 'ATA' 'ATG' 'ARG' 'ARM' 'ABW' 'AUS'\n",
      " 'AUT' 'AZE' 'BHS' 'BHR' 'BGD' 'BRB' 'BLR' 'BEL' 'BLZ' 'BEN' 'BMU' 'BTN'\n",
      " 'BES' 'BIH' 'BWA' 'BRA' 'VGB' 'BRN' 'BGR' 'BFA' 'BDI' 'KHM' 'CAN' 'CPV'\n",
      " 'CAF' 'TCD' 'CHL' 'CHN' 'CXR' 'COL' 'COM' 'COG' 'COK' 'CRI' 'CIV' 'HRV'\n",
      " 'CUB' 'CUW' 'CYP' 'CZE' 'PRK' 'COD' 'DNK' 'DJI' 'DMA' 'DOM' 'ECU' 'EGY'\n",
      " 'SLV' 'GNQ' 'ERI' 'EST' 'ETH' 'FRO' 'FSM' 'FJI' 'FIN' 'PCZ' 'FRA' 'GUF'\n",
      " 'PYF' 'GAB' 'GMB' 'GEO' 'DEU' 'GHA' 'GRC' 'GRL' 'GRD' 'GLP' 'GTM' 'GIN'\n",
      " 'GNB' 'GUY' 'HTI' 'HND' 'HKG' 'HUN' 'ISL' 'IND' 'IDN' 'IRQ' 'IRL' 'IRN'\n",
      " 'ISR' 'ITA' 'JAM' 'JPN' 'JOR' 'KAZ' 'KEN' 'KIR' 'KSV' 'KWT' 'KGZ' 'LAO'\n",
      " 'LVA' 'LBN' 'LSO' 'LBR' 'LBY' 'LIE' 'LTU' 'LUX' 'MAC' 'MKD' 'MDG' 'MWI'\n",
      " 'MYS' 'MDV' 'MLI' 'MLT' 'MHL' 'MTQ' 'MRT' 'MUS' 'MYT' 'MEX' 'MNG' 'MNE'\n",
      " 'MSR' 'MAR' 'MOZ' 'MMR' 'NAM' 'NRU' 'NPL' 'NLD' 'NCL' 'NZL' 'NIC' 'NER'\n",
      " 'NGA' 'NIU' 'NOR' 'PSE' 'OMN' 'PAK' 'PLW' 'PAN' 'PNG' 'PRY' 'PER' 'PHL'\n",
      " 'BOL' 'POL' 'PRT' 'PRI' 'QAT' 'CMR' 'KOR' 'MDA' 'SSD' 'SDN' 'REU' 'ROU'\n",
      " 'RUS' 'RWA' 'SHN' 'LCA' 'SXM' 'WSM' 'STP' 'SAU' 'SEN' 'SRB' 'SYC' 'SLE'\n",
      " 'SGP' 'SVK' 'SVN' 'SLB' 'SOM' 'ZAF' 'ESP' 'LKA' 'KNA' 'SPM' 'VCT' 'SUR'\n",
      " 'SWZ' 'SWE' 'CHE' 'SYR' 'TWN' 'TJK' 'THA' 'TLS' 'TGO' 'TON' 'TTO' 'TUN'\n",
      " 'TUR' 'TKM' 'TCA' 'TUV' 'UGA' 'UKR' 'ARE' 'GBR' 'TZA' 'USA' 'URY' 'UZB'\n",
      " 'VUT' 'VEN' 'VNM' 'WLF' 'YEM' 'ZMB' 'ZWE' 'XIT' 'WLD']\n",
      " \n",
      "Unique Value for  Year  :  [1750 1751 1752 1753 1754 1755 1756 1757 1758 1759 1760 1761 1762 1763\n",
      " 1764 1765 1766 1767 1768 1769 1770 1771 1772 1773 1774 1775 1776 1777\n",
      " 1778 1779 1780 1781 1782 1783 1784 1785 1786 1787 1788 1789 1790 1791\n",
      " 1792 1793 1794 1795 1796 1797 1798 1799 1800 1801 1802 1803 1804 1805\n",
      " 1806 1807 1808 1809 1810 1811 1812 1813 1814 1815 1816 1817 1818 1819\n",
      " 1820 1821 1822 1823 1824 1825 1826 1827 1828 1829 1830 1831 1832 1833\n",
      " 1834 1835 1836 1837 1838 1839 1840 1841 1842 1843 1844 1845 1846 1847\n",
      " 1848 1849 1850 1851 1852 1853 1854 1855 1856 1857 1858 1859 1860 1861\n",
      " 1862 1863 1864 1865 1866 1867 1868 1869 1870 1871 1872 1873 1874 1875\n",
      " 1876 1877 1878 1879 1880 1881 1882 1883 1884 1885 1886 1887 1888 1889\n",
      " 1890 1891 1892 1893 1894 1895 1896 1897 1898 1899 1900 1901 1902 1903\n",
      " 1904 1905 1906 1907 1908 1909 1910 1911 1912 1913 1914 1915 1916 1917\n",
      " 1918 1919 1920 1921 1922 1923 1924 1925 1926 1927 1928 1929 1930 1931\n",
      " 1932 1933 1934 1935 1936 1937 1938 1939 1940 1941 1942 1943 1944 1945\n",
      " 1946 1947 1948 1949 1950 1951 1952 1953 1954 1955 1956 1957 1958 1959\n",
      " 1960 1961 1962 1963 1964 1965 1966 1967 1968 1969 1970 1971 1972 1973\n",
      " 1974 1975 1976 1977 1978 1979 1980 1981 1982 1983 1984 1985 1986 1987\n",
      " 1988 1989 1990 1991 1992 1993 1994 1995 1996 1997 1998 1999 2000 2001\n",
      " 2002 2003 2004 2005 2006 2007 2008 2009 2010 2011 2012 2013 2014 2015\n",
      " 2016 2017 2018 2019 2020 2021]\n",
      " \n",
      "Unique Value for  Total  :  [0.00000000e+00 1.46560000e-02 8.42720000e-02 ... 3.70825590e+04\n",
      " 3.52640857e+04 3.71238504e+04]\n",
      " \n",
      "Unique Value for  Coal  :  [0.00000000e+00 1.46560000e-02 2.10680000e-02 ... 1.47259780e+04\n",
      " 1.41745640e+04 1.49795981e+04]\n",
      " \n",
      "Unique Value for  Oil  :  [0.00000000e+00 6.32040000e-02 6.59520000e-02 ... 1.23456534e+04\n",
      " 1.11918086e+04 1.18371591e+04]\n",
      " \n",
      "Unique Value for  Gas  :  [0.00000000e+00 2.60144000e-01 3.47041000e-01 ... 7.64752822e+03\n",
      " 7.55629028e+03 7.92182947e+03]\n",
      " \n",
      "Unique Value for  Cement  :  [0.00000000e+00 1.81710000e-02 1.80120000e-02 ... 1.61750679e+03\n",
      " 1.63753753e+03 1.67259237e+03]\n",
      " \n",
      "Unique Value for  Flaring  :  [0.00000000e+00 2.97436000e-01 3.04112000e-01 ... 4.39253991e+02\n",
      " 4.07583673e+02 4.16525563e+02]\n",
      " \n",
      "Unique Value for  Other  :  [  0.         2.242063   2.229622 ... 306.638573 296.301685 296.145746]\n",
      " \n",
      "Unique Value for  Per Capita  :  [0.       0.011266 0.012098 ... 4.775633 4.497423 4.693699]\n"
     ]
    }
   ],
   "source": [
    "for column in data_1.columns:\n",
    "    print(\" \")\n",
    "    print(\"Unique Value for \", column, ' : ', data_1[column].unique())"
   ]
  },
  {
   "cell_type": "code",
   "execution_count": 7,
   "id": "05555699",
   "metadata": {},
   "outputs": [],
   "source": [
    "data_1 = data_1.dropna(subset = ['Total'])"
   ]
  },
  {
   "cell_type": "code",
   "execution_count": 9,
   "id": "8cfae9de",
   "metadata": {},
   "outputs": [],
   "source": [
    "data_1 = data_1.dropna(subset = ['ISO 3166-1 alpha-3'])"
   ]
  },
  {
   "cell_type": "code",
   "execution_count": 10,
   "id": "2ceb81b6",
   "metadata": {},
   "outputs": [
    {
     "data": {
      "text/plain": [
       "Country                   0\n",
       "ISO 3166-1 alpha-3        0\n",
       "Year                      0\n",
       "Total                     0\n",
       "Coal                  39612\n",
       "Oil                   39639\n",
       "Gas                   39738\n",
       "Cement                40542\n",
       "Flaring               39806\n",
       "Other                 59652\n",
       "Per Capita            42730\n",
       "dtype: int64"
      ]
     },
     "execution_count": 10,
     "metadata": {},
     "output_type": "execute_result"
    }
   ],
   "source": [
    "data_1.isnull().sum()"
   ]
  },
  {
   "cell_type": "code",
   "execution_count": 11,
   "id": "b1b546ae",
   "metadata": {},
   "outputs": [],
   "source": [
    "data_1 = data_1.fillna(0)"
   ]
  },
  {
   "cell_type": "code",
   "execution_count": 12,
   "id": "72ca1cf9",
   "metadata": {},
   "outputs": [
    {
     "data": {
      "text/plain": [
       "Country               0\n",
       "ISO 3166-1 alpha-3    0\n",
       "Year                  0\n",
       "Total                 0\n",
       "Coal                  0\n",
       "Oil                   0\n",
       "Gas                   0\n",
       "Cement                0\n",
       "Flaring               0\n",
       "Other                 0\n",
       "Per Capita            0\n",
       "dtype: int64"
      ]
     },
     "execution_count": 12,
     "metadata": {},
     "output_type": "execute_result"
    }
   ],
   "source": [
    "data_1.isnull().sum()"
   ]
  },
  {
   "cell_type": "code",
   "execution_count": 14,
   "id": "a674e85d",
   "metadata": {},
   "outputs": [],
   "source": [
    "data_1 = data_1.to_csv(\"GCB2022v27_MtCO2_flat_CLEAN.csv\")"
   ]
  },
  {
   "cell_type": "markdown",
   "id": "fdacfda4",
   "metadata": {},
   "source": [
    "### Cleaning Data 2"
   ]
  },
  {
   "cell_type": "code",
   "execution_count": 15,
   "id": "1a6028f2",
   "metadata": {},
   "outputs": [
    {
     "name": "stdout",
     "output_type": "stream",
     "text": [
      "<class 'pandas.core.frame.DataFrame'>\n",
      "RangeIndex: 63104 entries, 0 to 63103\n",
      "Data columns (total 10 columns):\n",
      " #   Column              Non-Null Count  Dtype  \n",
      "---  ------              --------------  -----  \n",
      " 0   Country             63104 non-null  object \n",
      " 1   ISO 3166-1 alpha-3  61472 non-null  object \n",
      " 2   Year                63104 non-null  int64  \n",
      " 3   Total               18972 non-null  float64\n",
      " 4   Coal                17138 non-null  float64\n",
      " 5   Oil                 17039 non-null  float64\n",
      " 6   Gas                 17012 non-null  float64\n",
      " 7   Cement              15448 non-null  float64\n",
      " 8   Flaring             16944 non-null  float64\n",
      " 9   Other               1620 non-null   float64\n",
      "dtypes: float64(7), int64(1), object(2)\n",
      "memory usage: 4.8+ MB\n"
     ]
    }
   ],
   "source": [
    "data_2.info()"
   ]
  },
  {
   "cell_type": "code",
   "execution_count": 24,
   "id": "247d66ed",
   "metadata": {},
   "outputs": [
    {
     "data": {
      "text/plain": [
       "Country               0\n",
       "ISO 3166-1 alpha-3    0\n",
       "Year                  0\n",
       "Total                 0\n",
       "Coal                  0\n",
       "Oil                   0\n",
       "Gas                   0\n",
       "Cement                0\n",
       "Flaring               0\n",
       "Other                 0\n",
       "dtype: int64"
      ]
     },
     "execution_count": 24,
     "metadata": {},
     "output_type": "execute_result"
    }
   ],
   "source": [
    "data_2.isnull().sum()"
   ]
  },
  {
   "cell_type": "code",
   "execution_count": 17,
   "id": "afc5a219",
   "metadata": {},
   "outputs": [
    {
     "data": {
      "text/plain": [
       "0"
      ]
     },
     "execution_count": 17,
     "metadata": {},
     "output_type": "execute_result"
    }
   ],
   "source": [
    "data_2.duplicated().sum()"
   ]
  },
  {
   "cell_type": "code",
   "execution_count": 18,
   "id": "56a62e20",
   "metadata": {
    "scrolled": true
   },
   "outputs": [
    {
     "name": "stdout",
     "output_type": "stream",
     "text": [
      " \n",
      "Unique Value for  Country  :  ['Afghanistan' 'Albania' 'Algeria' 'Andorra' 'Angola' 'Anguilla'\n",
      " 'Antarctica' 'Antigua and Barbuda' 'Argentina' 'Armenia' 'Aruba'\n",
      " 'Australia' 'Austria' 'Azerbaijan' 'Bahamas' 'Bahrain' 'Bangladesh'\n",
      " 'Barbados' 'Belarus' 'Belgium' 'Belize' 'Benin' 'Bermuda' 'Bhutan'\n",
      " 'Bonaire, Saint Eustatius and Saba' 'Bosnia and Herzegovina' 'Botswana'\n",
      " 'Brazil' 'British Virgin Islands' 'Brunei Darussalam' 'Bulgaria'\n",
      " 'Burkina Faso' 'Burundi' 'Cambodia' 'Canada' 'Cape Verde'\n",
      " 'Central African Republic' 'Chad' 'Chile' 'China' 'Christmas Island'\n",
      " 'Colombia' 'Comoros' 'Congo' 'Cook Islands' 'Costa Rica' \"Côte d'Ivoire\"\n",
      " 'Croatia' 'Cuba' 'Curaçao' 'Cyprus' 'Czech Republic' 'North Korea'\n",
      " 'Democratic Republic of the Congo' 'Denmark' 'Djibouti' 'Dominica'\n",
      " 'Dominican Republic' 'Ecuador' 'Egypt' 'El Salvador' 'Equatorial Guinea'\n",
      " 'Eritrea' 'Estonia' 'Ethiopia' 'Faeroe Islands'\n",
      " 'Micronesia (Federated States of)' 'Fiji' 'Finland' 'Panama Canal Zone'\n",
      " 'France' 'French Equatorial Africa' 'French Guiana' 'French Polynesia'\n",
      " 'French West Africa' 'Gabon' 'Gambia' 'Georgia' 'Germany' 'Ghana'\n",
      " 'Greece' 'Greenland' 'Grenada' 'Guadeloupe' 'Guatemala' 'Guinea'\n",
      " 'Guinea-Bissau' 'Guyana' 'Haiti' 'Honduras' 'Hong Kong' 'Hungary'\n",
      " 'Iceland' 'India' 'Indonesia' 'Iraq' 'Ireland' 'Iran' 'Israel' 'Italy'\n",
      " 'Jamaica' 'Japan' 'Jordan' 'Kazakhstan' 'Kenya' 'Kiribati' 'Kosovo'\n",
      " 'Kuwait' 'Kuwaiti Oil Fires' 'Kyrgyzstan' 'Laos' 'Latvia' 'Lebanon'\n",
      " 'Leeward Islands' 'Lesotho' 'Liberia' 'Libya' 'Liechtenstein' 'Lithuania'\n",
      " 'Luxembourg' 'Macao' 'North Macedonia' 'Madagascar' 'Malawi' 'Malaysia'\n",
      " 'Maldives' 'Mali' 'Malta' 'Marshall Islands' 'Martinique' 'Mauritania'\n",
      " 'Mauritius' 'Mayotte' 'Mexico' 'Mongolia' 'Montenegro' 'Montserrat'\n",
      " 'Morocco' 'Mozambique' 'Myanmar' 'Namibia' 'Nauru' 'Nepal' 'Netherlands'\n",
      " 'New Caledonia' 'New Zealand' 'Nicaragua' 'Niger' 'Nigeria' 'Niue'\n",
      " 'Norway' 'Occupied Palestinian Territory' 'Oman'\n",
      " 'Pacific Islands (Palau)' 'Pakistan' 'Palau' 'Panama' 'Papua New Guinea'\n",
      " 'Paraguay' 'Peru' 'Philippines' 'Bolivia' 'Poland' 'Portugal'\n",
      " 'Puerto Rico' 'Qatar' 'Cameroon' 'South Korea' 'Moldova' 'South Sudan'\n",
      " 'Sudan' 'Réunion' 'Romania' 'Russia' 'Rwanda' 'Ryukyu Islands'\n",
      " 'Saint Helena' 'Saint Lucia' 'Sint Maarten (Dutch part)' 'Samoa'\n",
      " 'Sao Tome and Principe' 'Saudi Arabia' 'Senegal' 'Serbia' 'Seychelles'\n",
      " 'Sierra Leone' 'Singapore' 'Slovakia' 'Slovenia' 'Solomon Islands'\n",
      " 'Somalia' 'South Africa' 'Spain' 'Sri Lanka' 'Saint Kitts and Nevis'\n",
      " 'St. Kitts-Nevis-Anguilla' 'Saint Pierre and Miquelon'\n",
      " 'Saint Vincent and the Grenadines' 'Suriname' 'Swaziland' 'Sweden'\n",
      " 'Switzerland' 'Syria' 'Taiwan' 'Tajikistan' 'Thailand' 'Timor-Leste'\n",
      " 'Togo' 'Tonga' 'Trinidad and Tobago' 'Tunisia' 'Turkey' 'Turkmenistan'\n",
      " 'Turks and Caicos Islands' 'Tuvalu' 'Uganda' 'Ukraine'\n",
      " 'United Arab Emirates' 'United Kingdom' 'Tanzania' 'USA' 'Uruguay'\n",
      " 'Uzbekistan' 'Vanuatu' 'Venezuela' 'Viet Nam' 'Wallis and Futuna Islands'\n",
      " 'Yemen' 'Zambia' 'Zimbabwe' 'International Transport' 'Global']\n",
      " \n",
      "Unique Value for  ISO 3166-1 alpha-3  :  ['AFG' 'ALB' 'DZA' 'AND' 'AGO' 'AIA' 'ATA' 'ATG' 'ARG' 'ARM' 'ABW' 'AUS'\n",
      " 'AUT' 'AZE' 'BHS' 'BHR' 'BGD' 'BRB' 'BLR' 'BEL' 'BLZ' 'BEN' 'BMU' 'BTN'\n",
      " 'BES' 'BIH' 'BWA' 'BRA' 'VGB' 'BRN' 'BGR' 'BFA' 'BDI' 'KHM' 'CAN' 'CPV'\n",
      " 'CAF' 'TCD' 'CHL' 'CHN' 'CXR' 'COL' 'COM' 'COG' 'COK' 'CRI' 'CIV' 'HRV'\n",
      " 'CUB' 'CUW' 'CYP' 'CZE' 'PRK' 'COD' 'DNK' 'DJI' 'DMA' 'DOM' 'ECU' 'EGY'\n",
      " 'SLV' 'GNQ' 'ERI' 'EST' 'ETH' 'FRO' 'FSM' 'FJI' 'FIN' 'PCZ' 'FRA' nan\n",
      " 'GUF' 'PYF' 'GAB' 'GMB' 'GEO' 'DEU' 'GHA' 'GRC' 'GRL' 'GRD' 'GLP' 'GTM'\n",
      " 'GIN' 'GNB' 'GUY' 'HTI' 'HND' 'HKG' 'HUN' 'ISL' 'IND' 'IDN' 'IRQ' 'IRL'\n",
      " 'IRN' 'ISR' 'ITA' 'JAM' 'JPN' 'JOR' 'KAZ' 'KEN' 'KIR' 'KSV' 'KWT' 'KGZ'\n",
      " 'LAO' 'LVA' 'LBN' 'LSO' 'LBR' 'LBY' 'LIE' 'LTU' 'LUX' 'MAC' 'MKD' 'MDG'\n",
      " 'MWI' 'MYS' 'MDV' 'MLI' 'MLT' 'MHL' 'MTQ' 'MRT' 'MUS' 'MYT' 'MEX' 'MNG'\n",
      " 'MNE' 'MSR' 'MAR' 'MOZ' 'MMR' 'NAM' 'NRU' 'NPL' 'NLD' 'NCL' 'NZL' 'NIC'\n",
      " 'NER' 'NGA' 'NIU' 'NOR' 'PSE' 'OMN' 'PAK' 'PLW' 'PAN' 'PNG' 'PRY' 'PER'\n",
      " 'PHL' 'BOL' 'POL' 'PRT' 'PRI' 'QAT' 'CMR' 'KOR' 'MDA' 'SSD' 'SDN' 'REU'\n",
      " 'ROU' 'RUS' 'RWA' 'SHN' 'LCA' 'SXM' 'WSM' 'STP' 'SAU' 'SEN' 'SRB' 'SYC'\n",
      " 'SLE' 'SGP' 'SVK' 'SVN' 'SLB' 'SOM' 'ZAF' 'ESP' 'LKA' 'KNA' 'SPM' 'VCT'\n",
      " 'SUR' 'SWZ' 'SWE' 'CHE' 'SYR' 'TWN' 'TJK' 'THA' 'TLS' 'TGO' 'TON' 'TTO'\n",
      " 'TUN' 'TUR' 'TKM' 'TCA' 'TUV' 'UGA' 'UKR' 'ARE' 'GBR' 'TZA' 'USA' 'URY'\n",
      " 'UZB' 'VUT' 'VEN' 'VNM' 'WLF' 'YEM' 'ZMB' 'ZWE' 'XIT' 'WLD']\n",
      " \n",
      "Unique Value for  Year  :  [1750 1751 1752 1753 1754 1755 1756 1757 1758 1759 1760 1761 1762 1763\n",
      " 1764 1765 1766 1767 1768 1769 1770 1771 1772 1773 1774 1775 1776 1777\n",
      " 1778 1779 1780 1781 1782 1783 1784 1785 1786 1787 1788 1789 1790 1791\n",
      " 1792 1793 1794 1795 1796 1797 1798 1799 1800 1801 1802 1803 1804 1805\n",
      " 1806 1807 1808 1809 1810 1811 1812 1813 1814 1815 1816 1817 1818 1819\n",
      " 1820 1821 1822 1823 1824 1825 1826 1827 1828 1829 1830 1831 1832 1833\n",
      " 1834 1835 1836 1837 1838 1839 1840 1841 1842 1843 1844 1845 1846 1847\n",
      " 1848 1849 1850 1851 1852 1853 1854 1855 1856 1857 1858 1859 1860 1861\n",
      " 1862 1863 1864 1865 1866 1867 1868 1869 1870 1871 1872 1873 1874 1875\n",
      " 1876 1877 1878 1879 1880 1881 1882 1883 1884 1885 1886 1887 1888 1889\n",
      " 1890 1891 1892 1893 1894 1895 1896 1897 1898 1899 1900 1901 1902 1903\n",
      " 1904 1905 1906 1907 1908 1909 1910 1911 1912 1913 1914 1915 1916 1917\n",
      " 1918 1919 1920 1921 1922 1923 1924 1925 1926 1927 1928 1929 1930 1931\n",
      " 1932 1933 1934 1935 1936 1937 1938 1939 1940 1941 1942 1943 1944 1945\n",
      " 1946 1947 1948 1949 1950 1951 1952 1953 1954 1955 1956 1957 1958 1959\n",
      " 1960 1961 1962 1963 1964 1965 1966 1967 1968 1969 1970 1971 1972 1973\n",
      " 1974 1975 1976 1977 1978 1979 1980 1981 1982 1983 1984 1985 1986 1987\n",
      " 1988 1989 1990 1991 1992 1993 1994 1995 1996 1997 1998 1999 2000 2001\n",
      " 2002 2003 2004 2005 2006 2007 2008 2009 2010 2011 2012 2013 2014 2015\n",
      " 2016 2017 2018 2019 2020 2021]\n",
      " \n",
      "Unique Value for  Total  :  [     nan 0.011266 0.012098 ... 4.775633 4.497423 4.693699]\n",
      " \n",
      "Unique Value for  Coal  :  [     nan 0.002816 0.003387 ... 1.896468 1.80776  1.893923]\n",
      " \n",
      "Unique Value for  Oil  :  [     nan 0.008449 0.008711 ... 1.58992  1.427353 1.496614]\n",
      " \n",
      "Unique Value for  Gas  :  [     nan 0.       0.025988 ... 0.984878 0.963695 1.001585]\n",
      " \n",
      "Unique Value for  Cement  :  [     nan 0.       0.002146 ... 0.208309 0.208844 0.211472]\n",
      " \n",
      "Unique Value for  Flaring  :  [     nan 0.       0.027661 ... 0.056569 0.051981 0.052663]\n",
      " \n",
      "Unique Value for  Other  :  [     nan 0.131515 0.129096 ... 0.03949  0.037789 0.037443]\n"
     ]
    }
   ],
   "source": [
    "for column in data_2.columns:\n",
    "    print(\" \")\n",
    "    print(\"Unique Value for \", column, ' : ', data_2[column].unique())"
   ]
  },
  {
   "cell_type": "code",
   "execution_count": 19,
   "id": "550e5c57",
   "metadata": {},
   "outputs": [],
   "source": [
    "data_2 = data_2.dropna(subset = ['ISO 3166-1 alpha-3'])"
   ]
  },
  {
   "cell_type": "code",
   "execution_count": 23,
   "id": "a040b34c",
   "metadata": {},
   "outputs": [],
   "source": [
    "data_2.fillna(0, inplace = True)"
   ]
  },
  {
   "cell_type": "code",
   "execution_count": 25,
   "id": "b353509a",
   "metadata": {},
   "outputs": [],
   "source": [
    "data_2 = data_2.to_csv(\"GCB2022v27_percapita_flat_CLEAN.csv\")"
   ]
  },
  {
   "cell_type": "markdown",
   "id": "1664cc12",
   "metadata": {},
   "source": [
    "### Cleaning Data 3"
   ]
  },
  {
   "cell_type": "code",
   "execution_count": 26,
   "id": "39789c19",
   "metadata": {},
   "outputs": [
    {
     "name": "stdout",
     "output_type": "stream",
     "text": [
      "<class 'pandas.core.frame.DataFrame'>\n",
      "RangeIndex: 63104 entries, 0 to 63103\n",
      "Data columns (total 11 columns):\n",
      " #   Column              Non-Null Count  Dtype \n",
      "---  ------              --------------  ----- \n",
      " 0   Country             63104 non-null  object\n",
      " 1   ISO 3166-1 alpha-3  61472 non-null  object\n",
      " 2   Year                63104 non-null  int64 \n",
      " 3   Total               63104 non-null  object\n",
      " 4   Coal                63104 non-null  object\n",
      " 5   Oil                 63104 non-null  object\n",
      " 6   Gas                 63104 non-null  object\n",
      " 7   Cement              63104 non-null  object\n",
      " 8   Flaring             63104 non-null  object\n",
      " 9   Other               63104 non-null  object\n",
      " 10  Per Capita          63104 non-null  object\n",
      "dtypes: int64(1), object(10)\n",
      "memory usage: 5.3+ MB\n"
     ]
    }
   ],
   "source": [
    "data_3.info()"
   ]
  },
  {
   "cell_type": "code",
   "execution_count": 30,
   "id": "d543721a",
   "metadata": {},
   "outputs": [
    {
     "data": {
      "text/plain": [
       "Country               0\n",
       "ISO 3166-1 alpha-3    0\n",
       "Year                  0\n",
       "Total                 0\n",
       "Coal                  0\n",
       "Oil                   0\n",
       "Gas                   0\n",
       "Cement                0\n",
       "Flaring               0\n",
       "Other                 0\n",
       "Per Capita            0\n",
       "dtype: int64"
      ]
     },
     "execution_count": 30,
     "metadata": {},
     "output_type": "execute_result"
    }
   ],
   "source": [
    "data_3.isnull().sum()"
   ]
  },
  {
   "cell_type": "code",
   "execution_count": 28,
   "id": "4e323e70",
   "metadata": {},
   "outputs": [
    {
     "data": {
      "text/plain": [
       "0"
      ]
     },
     "execution_count": 28,
     "metadata": {},
     "output_type": "execute_result"
    }
   ],
   "source": [
    "data_3.duplicated().sum()"
   ]
  },
  {
   "cell_type": "code",
   "execution_count": 29,
   "id": "923ee6f7",
   "metadata": {},
   "outputs": [],
   "source": [
    "data_3 = data_3.dropna(subset = ['ISO 3166-1 alpha-3'])"
   ]
  },
  {
   "cell_type": "code",
   "execution_count": 31,
   "id": "2c365969",
   "metadata": {},
   "outputs": [],
   "source": [
    "data_3 = data_3.to_csv(\"GCB2022v27_sources_flat_CLEAN.csv\")"
   ]
  },
  {
   "cell_type": "code",
   "execution_count": null,
   "id": "d076c676",
   "metadata": {},
   "outputs": [],
   "source": []
  }
 ],
 "metadata": {
  "kernelspec": {
   "display_name": "Python 3 (ipykernel)",
   "language": "python",
   "name": "python3"
  },
  "language_info": {
   "codemirror_mode": {
    "name": "ipython",
    "version": 3
   },
   "file_extension": ".py",
   "mimetype": "text/x-python",
   "name": "python",
   "nbconvert_exporter": "python",
   "pygments_lexer": "ipython3",
   "version": "3.9.7"
  }
 },
 "nbformat": 4,
 "nbformat_minor": 5
}
